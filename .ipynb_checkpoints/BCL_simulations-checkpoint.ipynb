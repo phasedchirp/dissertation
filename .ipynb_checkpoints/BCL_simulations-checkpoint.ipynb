{
 "metadata": {
  "language": "Julia",
  "name": ""
 },
 "nbformat": 3,
 "nbformat_minor": 0,
 "worksheets": [
  {
   "cells": [
    {
     "cell_type": "heading",
     "level": 1,
     "metadata": {},
     "source": [
      "Biased Category Learner Simulations"
     ]
    },
    {
     "cell_type": "markdown",
     "metadata": {},
     "source": [
      "This is a set of tests of the biased category learning model developed for my dissertation. All simulations use artificial American English vowel data generated based on parameters estimated from Hillenbrand et al. (1995).\n",
      "\n",
      "Simulations are as follows:\n",
      "\n",
      "1. A baseline simulation comparable to the simulation found in Feldman et al. (2013)\n",
      "2. Learning performance while varying dimension of data\n",
      "3. Learning while varying number of categories in data\n",
      "4. Learning while varying the within-category variability of data"
     ]
    },
    {
     "cell_type": "heading",
     "level": 3,
     "metadata": {},
     "source": [
      "Setup:"
     ]
    },
    {
     "cell_type": "markdown",
     "metadata": {},
     "source": [
      "Loading necessary modules:"
     ]
    },
    {
     "cell_type": "code",
     "collapsed": false,
     "input": [
      "using Distributions;\n",
      "using PyPlot;\n",
      "include(\"Diss.jl\");"
     ],
     "language": "python",
     "metadata": {},
     "outputs": []
    },
    {
     "cell_type": "heading",
     "level": 3,
     "metadata": {},
     "source": [
      "Data:"
     ]
    },
    {
     "cell_type": "markdown",
     "metadata": {},
     "source": [
      "Loading vowel parameters (mean and covariance matrix) defined in a separate file. See file vowels2.jl for details."
     ]
    },
    {
     "cell_type": "code",
     "collapsed": false,
     "input": [
      "include(\"vowels2.jl\");"
     ],
     "language": "python",
     "metadata": {},
     "outputs": []
    },
    {
     "cell_type": "markdown",
     "metadata": {},
     "source": [
      "Generating simulated vowel productions from each category:"
     ]
    },
    {
     "cell_type": "code",
     "collapsed": false,
     "input": [
      "N = 500\n",
      "var_scaling = 1\n",
      "iy_sample = cat(1,rand(MvNormal(iy_mu,iy_sigma*var_scaling),N),zeros(1,N));\n",
      "ei_sample = cat(1,rand(MvNormal(ei_mu,ei_sigma*var_scaling),N),ones(1,N));\n",
      "ae_sample = cat(1,rand(MvNormal(ae_mu,ae_sigma*var_scaling),N),ones(1,N)*2);\n",
      "oo_sample = cat(1,rand(MvNormal(oo_mu,oo_sigma*var_scaling),N),ones(1,N)*3);\n",
      "uw_sample = cat(1,rand(MvNormal(uw_mu,uw_sigma*var_scaling),N),ones(1,N)*4);\n",
      "ah_sample = cat(1,rand(MvNormal(ah_mu,ah_sigma*var_scaling),N),ones(1,N)*5);\n",
      "aw_sample = cat(1,rand(MvNormal(aw_mu,aw_sigma*var_scaling),N),ones(1,N)*6);\n",
      "eh_sample = cat(1,rand(MvNormal(eh_mu,eh_sigma*var_scaling),N),ones(1,N)*7);\n",
      "ih_sample = cat(1,rand(MvNormal(ih_mu,ih_sigma*var_scaling),N),ones(1,N)*8);\n",
      "oa_sample = cat(1,rand(MvNormal(oa_mu,oa_sigma*var_scaling),N),ones(1,N)*9);\n",
      "uh_sample = cat(1,rand(MvNormal(uh_mu,uh_sigma*var_scaling),N),ones(1,N)*10);\n",
      "\n",
      "sample_all = cat(2,iy_sample,ei_sample,ae_sample,oo_sample,aw_sample,ih_sample,oa_sample,uw_sample,ah_sample,eh_sample,uh_sample);\n",
      "ord = randperm(size(sample_all,2));\n",
      "col1 = permute!(sample_all[1,:],ord);\n",
      "col2 = permute!(sample_all[2,:],ord);\n",
      "col3 = permute!(sample_all[3,:],ord);\n",
      "col4 = permute!(sample_all[4,:],ord);\n",
      "col5 = permute!(sample_all[5,:],ord);\n",
      "col6 = permute!(sample_all[6,:],ord);\n",
      "col7 = permute!(sample_all[7,:],ord);\n",
      "vowels_rand = cat(1,col1,col2,col3,col4,col5,col6,col7);"
     ],
     "language": "python",
     "metadata": {},
     "outputs": []
    },
    {
     "cell_type": "markdown",
     "metadata": {},
     "source": [
      "The learning data is 6-dimensional, including Duration, F0, F1, F2, F3, and F4. All frequency dimensions are ERB-scaled. In the standard F2-F1 projection, the data looks like this:"
     ]
    },
    {
     "cell_type": "code",
     "collapsed": false,
     "input": [
      "scatter(vowels_rand[3,:],vowels_rand[4,:],c=vowels_rand[7,:])"
     ],
     "language": "python",
     "metadata": {},
     "outputs": []
    },
    {
     "cell_type": "heading",
     "level": 2,
     "metadata": {},
     "source": [
      "Simulation 1(a):"
     ]
    },
    {
     "cell_type": "markdown",
     "metadata": {},
     "source": [
      "Simulation 1 replicates the tests of learner performance used by Feldman et al. (2013). Given the full 12-vowel dataset, \n",
      "\n",
      "In these simulations, the learners are trained on two-dimensional data."
     ]
    },
    {
     "cell_type": "markdown",
     "metadata": {},
     "source": [
      "To test number of categories learned, a set of 300 mixtures is trained on the data:"
     ]
    },
    {
     "cell_type": "code",
     "collapsed": false,
     "input": [
      "mixtures_1a = {vowelMix5 = ItterMix(2,10,1,{10},{1},{},eye(2),1) for 1=1:300};\n",
      "\n",
      "for j=1:300\n",
      "    for i=1:2000\n",
      "        update(mixtures_1a[j],vowels_rand[3:4,i],2);\n",
      "    end\n",
      "end"
     ],
     "language": "python",
     "metadata": {},
     "outputs": []
    },
    {
     "cell_type": "heading",
     "level": 2,
     "metadata": {},
     "source": [
      "Simulation 1(b) (adding bias):"
     ]
    },
    {
     "cell_type": "markdown",
     "metadata": {},
     "source": [
      "Here, the model is modified to incorporated a type of learning bias/regularization to the learning procedure. While in the previous simulations, "
     ]
    },
    {
     "cell_type": "code",
     "collapsed": false,
     "input": [
      "mixtures_1b = {vowelMix5 = ItterMix(2,10,1,{10},{1},{},eye(2),1) for 1=1:300};\n",
      "\n",
      "for j=1:300\n",
      "    for i=1:2000\n",
      "        update(mixtures_ib[j],vowels_rand[3:4,i],2);\n",
      "    end\n",
      "end"
     ],
     "language": "python",
     "metadata": {},
     "outputs": []
    },
    {
     "cell_type": "heading",
     "level": 2,
     "metadata": {},
     "source": [
      "Simulation 2:"
     ]
    },
    {
     "cell_type": "markdown",
     "metadata": {},
     "source": [
      "Simulation 2 tests the effect of changing the dimensionality of the data. Starting from two dimensions:"
     ]
    },
    {
     "cell_type": "code",
     "collapsed": false,
     "input": [
      "mixtures_2_2 = {ItterMix(2,10,1,{10},{1},{},eye(2),1) for 1=1:300};\n",
      "\n",
      "for j=1:300\n",
      "    for i=1:2000\n",
      "        update(mixtures_2_2[j],vowels_rand[3:4,i],2);\n",
      "    end\n",
      "end"
     ],
     "language": "python",
     "metadata": {},
     "outputs": []
    },
    {
     "cell_type": "raw",
     "metadata": {},
     "source": [
      "Adding F0:"
     ]
    },
    {
     "cell_type": "code",
     "collapsed": false,
     "input": [
      "mixtures_2_3 = {ItterMix(3,10,1,{10},{1},{},eye(3),1) for 1=1:300};\n",
      "\n",
      "for j=1:300\n",
      "    for i=1:2000\n",
      "        update(mixtures_2_3[j],vowels_rand[2:4,i],2);\n",
      "    end\n",
      "end"
     ],
     "language": "python",
     "metadata": {},
     "outputs": []
    },
    {
     "cell_type": "markdown",
     "metadata": {},
     "source": [
      "Adding F3:"
     ]
    },
    {
     "cell_type": "code",
     "collapsed": false,
     "input": [
      "mixtures_2_4 = {ItterMix(4,10,1,{10},{1},{},eye(4),1) for 1=1:300};\n",
      "\n",
      "for j=1:300\n",
      "    for i=1:2000\n",
      "        update(mixtures_2_4[j],vowels_rand[2:5,i],2);\n",
      "    end\n",
      "end"
     ],
     "language": "python",
     "metadata": {},
     "outputs": []
    },
    {
     "cell_type": "markdown",
     "metadata": {},
     "source": [
      "Adding F4:"
     ]
    },
    {
     "cell_type": "code",
     "collapsed": false,
     "input": [
      "mixtures_2_5 = {ItterMix(5,10,1,{10},{1},{},eye(5),1) for 1=1:300};\n",
      "\n",
      "for j=1:300\n",
      "    for i=1:2000\n",
      "        update(mixtures_2_5[j],vowels_rand[2:6,i],2);\n",
      "    end\n",
      "end"
     ],
     "language": "python",
     "metadata": {},
     "outputs": []
    },
    {
     "cell_type": "heading",
     "level": 2,
     "metadata": {},
     "source": [
      "Simulation 3:"
     ]
    },
    {
     "cell_type": "markdown",
     "metadata": {},
     "source": [
      "Simulation 3 tests the effect of varying the number of categories present in the data. Starting with a comparatively simple 5-vowel system (/i/, /a/, /ei/, /u/, /o/):"
     ]
    },
    {
     "cell_type": "code",
     "collapsed": false,
     "input": [],
     "language": "python",
     "metadata": {},
     "outputs": []
    },
    {
     "cell_type": "markdown",
     "metadata": {},
     "source": [
      "6-vowel system (adding schwa):"
     ]
    },
    {
     "cell_type": "code",
     "collapsed": false,
     "input": [],
     "language": "python",
     "metadata": {},
     "outputs": []
    },
    {
     "cell_type": "markdown",
     "metadata": {},
     "source": [
      "7-vowel system (adding ):"
     ]
    },
    {
     "cell_type": "code",
     "collapsed": false,
     "input": [],
     "language": "python",
     "metadata": {},
     "outputs": []
    },
    {
     "cell_type": "markdown",
     "metadata": {},
     "source": [
      "8-vowel system (adding ):"
     ]
    },
    {
     "cell_type": "code",
     "collapsed": false,
     "input": [],
     "language": "python",
     "metadata": {},
     "outputs": []
    },
    {
     "cell_type": "markdown",
     "metadata": {},
     "source": [
      "9-vowel system (adding ):"
     ]
    },
    {
     "cell_type": "code",
     "collapsed": false,
     "input": [],
     "language": "python",
     "metadata": {},
     "outputs": []
    },
    {
     "cell_type": "markdown",
     "metadata": {},
     "source": [
      "10-vowel system (adding ):"
     ]
    },
    {
     "cell_type": "code",
     "collapsed": false,
     "input": [],
     "language": "python",
     "metadata": {},
     "outputs": []
    },
    {
     "cell_type": "markdown",
     "metadata": {},
     "source": [
      "11-vowel system (adding ):"
     ]
    },
    {
     "cell_type": "code",
     "collapsed": false,
     "input": [],
     "language": "python",
     "metadata": {},
     "outputs": []
    },
    {
     "cell_type": "heading",
     "level": 2,
     "metadata": {},
     "source": [
      "Simulation 4"
     ]
    },
    {
     "cell_type": "markdown",
     "metadata": {},
     "source": [
      "Simulation 4 tests the effect of varying the scale of within-category variability."
     ]
    },
    {
     "cell_type": "code",
     "collapsed": false,
     "input": [],
     "language": "python",
     "metadata": {},
     "outputs": []
    }
   ],
   "metadata": {}
  }
 ]
}