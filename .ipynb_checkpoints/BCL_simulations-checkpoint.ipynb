{
 "metadata": {
  "language": "Julia",
  "name": ""
 },
 "nbformat": 3,
 "nbformat_minor": 0,
 "worksheets": [
  {
   "cells": [
    {
     "cell_type": "code",
     "collapsed": false,
     "input": [
      "using Distributions;\n",
      "using PyPlot;\n",
      "include(\"diss.jl\");\n",
      "include(\"vowels2.jl\");"
     ],
     "language": "python",
     "metadata": {},
     "outputs": []
    },
    {
     "cell_type": "code",
     "collapsed": false,
     "input": [
      "N = 2000\n",
      "var_scaling = 1\n",
      "iy_sample = cat(1,rand(MvNormal(iy_mu,iy_sigma*var_scaling),N),zeros(1,N));\n",
      "ei_sample = cat(1,rand(MvNormal(ei_mu,ei_sigma*var_scaling),N),ones(1,N));\n",
      "ae_sample = cat(1,rand(MvNormal(ae_mu,ae_sigma*var_scaling),N),ones(1,N)*2);\n",
      "oo_sample = cat(1,rand(MvNormal(oo_mu,oo_sigma*var_scaling),N),ones(1,N)*3);\n",
      "uw_sample = cat(1,rand(MvNormal(uw_mu,uw_sigma*var_scaling),N),ones(1,N)*4);\n",
      "ah_sample = cat(1,rand(MvNormal(ah_mu,ah_sigma*var_scaling),N),ones(1,N)*5);\n",
      "aw_sample = cat(1,rand(MvNormal(aw_mu,aw_sigma*var_scaling),N),ones(1,N)*6);\n",
      "eh_sample = cat(1,rand(MvNormal(eh_mu,eh_sigma*var_scaling),N),ones(1,N)*7);\n",
      "ih_sample = cat(1,rand(MvNormal(ih_mu,ih_sigma*var_scaling),N),ones(1,N)*8);\n",
      "oa_sample = cat(1,rand(MvNormal(oa_mu,oa_sigma*var_scaling),N),ones(1,N)*9);\n",
      "uh_sample = cat(1,rand(MvNormal(uh_mu,uh_sigma*var_scaling),N),ones(1,N)*10);\n",
      "sample_all = cat(2,iy_sample,ei_sample,ae_sample,oo_sample,aw_sample,ih_sample,oa_sample,uw_sample,ah_sample,eh_sample,uh_sample);\n",
      "ord = randperm(size(sample_all,2));\n",
      "col1 = permute!(sample_all[1,:],ord);\n",
      "col2 = permute!(sample_all[2,:],ord);\n",
      "col3 = permute!(sample_all[3,:],ord);\n",
      "col4 = permute!(sample_all[4,:],ord);\n",
      "col5 = permute!(sample_all[5,:],ord);\n",
      "col6 = permute!(sample_all[6,:],ord);\n",
      "col7 = permute!(sample_all[7,:],ord);\n",
      "vowels_rand = cat(1,col1,col2,col3,col4,col5,col6,col7);"
     ],
     "language": "python",
     "metadata": {},
     "outputs": []
    },
    {
     "cell_type": "code",
     "collapsed": false,
     "input": [
      "using StatsBase"
     ],
     "language": "python",
     "metadata": {},
     "outputs": []
    },
    {
     "cell_type": "code",
     "collapsed": false,
     "input": [
      "vowels_scaled = cat(1,zscore(vowels_rand[1:6,:],2),vowels_rand[7,:]);\n",
      "size(vowels_scaled)"
     ],
     "language": "python",
     "metadata": {},
     "outputs": []
    },
    {
     "cell_type": "code",
     "collapsed": false,
     "input": [
      "scatter(vowels_scaled[3,:],vowels_scaled[4,:],c=vowels_scaled[7,:])"
     ],
     "language": "python",
     "metadata": {},
     "outputs": []
    },
    {
     "cell_type": "code",
     "collapsed": false,
     "input": [
      "sInit = Sigma(2,eye(2)*0.01,5);\n",
      "mix1 = [Mix(2,10,1,[20],[],[],sInit) for i=1:1000];"
     ],
     "language": "python",
     "metadata": {},
     "outputs": []
    },
    {
     "cell_type": "code",
     "collapsed": false,
     "input": [
      "for i=1:1000\n",
      "    for j=1:10000\n",
      "        update(mix1[i],vowels_scaled[3:4,j],0.1);\n",
      "    end\n",
      "    if i%50==0\n",
      "        print(i,\", \")\n",
      "    end\n",
      "end"
     ],
     "language": "python",
     "metadata": {},
     "outputs": []
    },
    {
     "cell_type": "code",
     "collapsed": false,
     "input": [
      "n_comps = zeros(1000);\n",
      "\n",
      "for j=1:length(mix1)\n",
      "    n = 0\n",
      "    for i=1:length(mix1[j].cats)\n",
      "        if mix1[j].phi[i] > 0.03\n",
      "            n += 1\n",
      "        end\n",
      "    end\n",
      "    n_comps[j] += n\n",
      "end"
     ],
     "language": "python",
     "metadata": {},
     "outputs": []
    },
    {
     "cell_type": "code",
     "collapsed": false,
     "input": [
      "print(minimum(n_comps),'\\n')\n",
      "print(maximum(n_comps),'\\n')\n",
      "#print(mean(n_comps),'\\n')\n",
      "range_vals = maximum(n_comps) - minimum(n_comps);\n",
      "plt.hist(n_comps,range_vals);"
     ],
     "language": "python",
     "metadata": {},
     "outputs": []
    }
   ],
   "metadata": {}
  }
 ]
}