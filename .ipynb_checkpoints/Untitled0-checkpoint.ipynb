{
 "metadata": {
  "language": "Julia",
  "name": ""
 },
 "nbformat": 3,
 "nbformat_minor": 0,
 "worksheets": [
  {
   "cells": [
    {
     "cell_type": "code",
     "collapsed": false,
     "input": [
      "using Distributions;\n",
      "using PyPlot;"
     ],
     "language": "python",
     "metadata": {},
     "outputs": [
      {
       "output_type": "stream",
       "stream": "stderr",
       "text": [
        "INFO: Loading help data...\n"
       ]
      }
     ],
     "prompt_number": 1
    },
    {
     "cell_type": "code",
     "collapsed": false,
     "input": [
      "# Define both distributions\n",
      "mu1 = [10.0; 0; 0];\n",
      "sigma1 = [3.0 0 0; 0 6 0; 0 0 4];\n",
      "mu2 = ones(3)*10;\n",
      "sigma2 = [4.0 1 0; 1 2 1; 0 1 4];\n",
      "clust1 = MvNormal(mu1,sigma1);\n",
      "clust2 = MvNormal(mu2,sigma2);\n",
      "# generate samples from both\n",
      "sample1 = rand(clust1,1000);\n",
      "sample2 = rand(clust2,1000);\n",
      "sample_all = cat(2,sample1,sample2);\n",
      "ord = randperm(2000);\n",
      "col1 = permute!(sample_all[1,:],ord);\n",
      "col2 = permute!(sample_all[2,:],ord);\n",
      "col3 = permute!(sample_all[3,:],ord);\n",
      "sample_rand = cat(1,col1,col2,col3);"
     ],
     "language": "python",
     "metadata": {},
     "outputs": [],
     "prompt_number": 2
    },
    {
     "cell_type": "code",
     "collapsed": false,
     "input": [
      "type GaussND\n",
      "    d\n",
      "    mu\n",
      "    sigma\n",
      "    kappa\n",
      "    nu\n",
      "end"
     ],
     "language": "python",
     "metadata": {},
     "outputs": [],
     "prompt_number": 3
    },
    {
     "cell_type": "code",
     "collapsed": false,
     "input": [
      "type ItterMix\n",
      "    d::Int\n",
      "    a\n",
      "    stick\n",
      "    alpha\n",
      "    phi\n",
      "    components\n",
      "    mean_sigma\n",
      "end"
     ],
     "language": "python",
     "metadata": {},
     "outputs": [],
     "prompt_number": 4
    },
    {
     "cell_type": "code",
     "collapsed": false,
     "input": [
      "function update(G::GaussND,x,weight = 1)\n",
      "    G.sigma += weight*((x-G.mu)*transpose(x-G.mu))*G.kappa/(G.kappa+1);\n",
      "    G.mu = weight*G.mu*(G.kappa/(G.kappa+1)) + x*(1/(G.kappa+1));\n",
      "    G.kappa += weight*1;\n",
      "    G.nu += weight*1;\n",
      "end\n",
      "\n",
      "function getsigma(G::GaussND)\n",
      "    return G.sigma/(G.nu-G.d-1)\n",
      "end"
     ],
     "language": "python",
     "metadata": {},
     "outputs": [
      {
       "metadata": {},
       "output_type": "pyout",
       "prompt_number": 38,
       "text": [
        "getsigma (generic function with 1 method)"
       ]
      }
     ],
     "prompt_number": 38
    },
    {
     "cell_type": "code",
     "collapsed": false,
     "input": [
      "function update(M::ItterMix,x)\n",
      "    # determine if new or old category\n",
      "    # p(new) decreases as stick-length decreases\n",
      "    isnew = rand(Bernoulli(M.stick));\n",
      "    \n",
      "    # generate posterior predictive densities\n",
      "    # currently terribly clunky\n",
      "    \n",
      "    if !bool(isnew)\n",
      "        post_pred = {MvTDist(float(G.nu-M.d+1),G.mu,G.sigma*((G.kappa+1)/(G.kappa*(G.nu-M.d-1)))) for G in M.components};\n",
      "        # Calculate and normalize cluster responsibilities\n",
      "        resp = {M.phi[i]*pdf(post_pred[i],x) for i=1:length(post_pred)};\n",
      "        resp = resp/sum(resp);\n",
      "        for i = 1:length(M.components);\n",
      "            update(M.components[i],x,resp[i]);\n",
      "            M.alpha[i] += 1*resp[i];\n",
      "        end\n",
      "    else\n",
      "        w_new = rand(Beta(1,M.a))*M.stick;\n",
      "        M.stick = M.stick - w_new;\n",
      "        if M.components == {}\n",
      "            sigma_new = M.mean_sigma*(M.alpha[1]);\n",
      "            M.components = cat(1,M.components,{GaussND(M.d,x,sigma_new,M.alpha[1],M.alpha[1]+M.d+1)});\n",
      "        else\n",
      "            # Calculating phi for new category:\n",
      "            # un-normalize current vector phi (divide by 1-current stick length)\n",
      "            phi_un = M.phi/(1-M.stick);\n",
      "            phi_un = cat(1,phi_un,{w_new});\n",
      "            alpha_new = (w_new/sum(phi_un))*sum(M.alpha);\n",
      "            M.alpha = cat(1,M.alpha,{alpha_new});\n",
      "            sigma_new = M.mean_sigma*(alpha_new);\n",
      "            M.components = cat(1,M.components,{GaussND(M.d,x,sigma_new,alpha_new+M.d,alpha_new+M.d+1)});\n",
      "        end\n",
      "        \n",
      "    end\n",
      "    M.phi = {M.alpha[i]/sum(M.alpha) for i=1:length(M.alpha)};\n",
      "    mean_sigma = mean({G.sigma/(G.nu-M.d-1) for G in M.components});\n",
      "end"
     ],
     "language": "python",
     "metadata": {},
     "outputs": [
      {
       "metadata": {},
       "output_type": "pyout",
       "prompt_number": 22,
       "text": [
        "update (generic function with 3 methods)"
       ]
      }
     ],
     "prompt_number": 22
    },
    {
     "cell_type": "code",
     "collapsed": false,
     "input": [
      "# initialize a mixture with d = 3, a = 2, stick = 1, alpha = {10}, phi = {1}, components = {},\n",
      "# mean_sigma = 3-dimensional identity matrix\n",
      "mixTest = ItterMix(3,2,1,{10},{1},{},eye(3));"
     ],
     "language": "python",
     "metadata": {},
     "outputs": [],
     "prompt_number": 44
    },
    {
     "cell_type": "code",
     "collapsed": false,
     "input": [
      "update(mixTest,sample_rand[:,1])"
     ],
     "language": "python",
     "metadata": {},
     "outputs": [
      {
       "metadata": {},
       "output_type": "pyout",
       "prompt_number": 45,
       "text": [
        "3x3 Array{Float64,2}:\n",
        " 1.0  0.0  0.0\n",
        " 0.0  1.0  0.0\n",
        " 0.0  0.0  1.0"
       ]
      }
     ],
     "prompt_number": 45
    },
    {
     "cell_type": "code",
     "collapsed": false,
     "input": [
      "for i=2:100\n",
      "    update(mixTest,sample_rand[:,i]);\n",
      "end"
     ],
     "language": "python",
     "metadata": {},
     "outputs": [],
     "prompt_number": 25
    },
    {
     "cell_type": "code",
     "collapsed": false,
     "input": [
      "mixTest.phi"
     ],
     "language": "python",
     "metadata": {},
     "outputs": [
      {
       "metadata": {},
       "output_type": "pyout",
       "prompt_number": 26,
       "text": [
        "9-element Array{Any,1}:\n",
        " 0.723538  \n",
        " 0.0338421 \n",
        " 0.0104625 \n",
        " 0.0909431 \n",
        " 0.0831138 \n",
        " 0.031394  \n",
        " 0.00275861\n",
        " 0.011444  \n",
        " 0.0125035 "
       ]
      }
     ],
     "prompt_number": 26
    },
    {
     "cell_type": "code",
     "collapsed": false,
     "input": [
      "for i=101:1000\n",
      "    update(mixTest,sample_rand[:,i]);\n",
      "end"
     ],
     "language": "python",
     "metadata": {},
     "outputs": [],
     "prompt_number": 27
    },
    {
     "cell_type": "code",
     "collapsed": false,
     "input": [
      "mixTest.phi"
     ],
     "language": "python",
     "metadata": {},
     "outputs": [
      {
       "metadata": {},
       "output_type": "pyout",
       "prompt_number": 28,
       "text": [
        "13-element Array{Any,1}:\n",
        " 0.567039  \n",
        " 0.0298061 \n",
        " 0.00748959\n",
        " 0.0675748 \n",
        " 0.214552  \n",
        " 0.0572904 \n",
        " 0.00211657\n",
        " 0.0131992 \n",
        " 0.0164106 \n",
        " 0.0182343 \n",
        " 0.00184169\n",
        " 0.00128353\n",
        " 0.00316219"
       ]
      }
     ],
     "prompt_number": 28
    },
    {
     "cell_type": "code",
     "collapsed": false,
     "input": [
      "for i=1001:2000\n",
      "    update(mixTest,sample_rand[:,i]);\n",
      "end"
     ],
     "language": "python",
     "metadata": {},
     "outputs": [],
     "prompt_number": 29
    },
    {
     "cell_type": "code",
     "collapsed": false,
     "input": [
      "mixTest.phi"
     ],
     "language": "python",
     "metadata": {},
     "outputs": [
      {
       "metadata": {},
       "output_type": "pyout",
       "prompt_number": 30,
       "text": [
        "13-element Array{Any,1}:\n",
        " 0.545168  \n",
        " 0.0317622 \n",
        " 0.00706053\n",
        " 0.0644286 \n",
        " 0.232043  \n",
        " 0.0615963 \n",
        " 0.00198709\n",
        " 0.0137836 \n",
        " 0.017296  \n",
        " 0.0190891 \n",
        " 0.00173055\n",
        " 0.00118192\n",
        " 0.00287378"
       ]
      }
     ],
     "prompt_number": 30
    },
    {
     "cell_type": "code",
     "collapsed": false,
     "input": [
      "for i =1:length(mixTest.components)\n",
      "    if mixTest.phi[i]>0.05\n",
      "        print(mixTest.components[i].sigma/(mixTest.components[i].nu-3-1))\n",
      "        print('\\n')\n",
      "        print(mixTest.components[i].mu)\n",
      "        print('\\n')\n",
      "    end\n",
      "end"
     ],
     "language": "python",
     "metadata": {},
     "outputs": [
      {
       "output_type": "stream",
       "stream": "stdout",
       "text": [
        "[98"
       ]
      },
      {
       "output_type": "stream",
       "stream": "stdout",
       "text": [
        ".56051941356252 77.32495801287722 77.13432622892681\n",
        " 77.32495801287722 77.52828443641287 77.14683697037545\n",
        " 77.13432622892681 77.14683697037545 81.49813461563653]\n",
        "[0.012305712480061364,-0.001785611987866645,-0.003954974255913233]\n",
        "[96.43336420346643 73.94063815811035 67.54328093344193\n",
        " 73.94063815811035 72.5219456347208 67.79175691772679\n",
        " 67.54328093344193 67.79175691772679 69.93683591877976]\n",
        "[0.09198497573912445,-0.015933360310446294,-0.032048766733228734]\n",
        "[101.25706523395743 -7.295448663015431 -1.0206744166051174\n",
        " -7.295448663015431 5.707082123946685 -1.0068941170384005\n",
        " -1.0206744166051174 -1.0068941170384005 3.346362454149484]\n",
        "[0.037734381985234884,-0.0006406178745343612,-0.005728231466384143]\n",
        "[95.94702340986755 -3.7957173651181297 -4.262825214182043\n",
        " -3.7957173651181297 6.6340518079913595 -0.6016966995589508\n",
        " -4.262825214182043 -0.6016966995589508 4.126629592940216]\n",
        "[0.11680034976911456,-0.013638959114243857,-0.03376045803832816]\n"
       ]
      }
     ],
     "prompt_number": 31
    },
    {
     "cell_type": "code",
     "collapsed": false,
     "input": [
      "function update_mix_comp(M::ItterMix,x)\n",
      "    # determine if new or old category\n",
      "    # p(new) decreases as stick-length decreases\n",
      "    isnew = rand(Bernoulli(M.stick));\n",
      "    \n",
      "    # generate posterior predictive densities\n",
      "    # currently terribly clunky\n",
      "    \n",
      "    if !bool(isnew)\n",
      "        post_pred = {MvTDist(float(G.nu-M.d+1),G.mu,G.sigma*((G.kappa+1)/(G.kappa*(G.nu-M.d-1)))) for G in M.components};\n",
      "        # Calculate and normalize cluster responsibilities\n",
      "        resp = {M.phi[i]*pdf(post_pred[i],x) for i=1:length(post_pred)};\n",
      "        winner = indmax(resp)\n",
      "        update(M.components[winner],x);\n",
      "        M.alpha[winner] += 1;\n",
      "    else\n",
      "        w_new = rand(Beta(1,M.a))*M.stick;\n",
      "        M.stick = M.stick - w_new;\n",
      "        if M.components == {}\n",
      "            sigma_new = M.mean_sigma*(M.alpha[1]);\n",
      "            M.components = cat(1,M.components,{GaussND(M.d,x,sigma_new,M.alpha[1],M.alpha[1]+M.d+1)});\n",
      "        else\n",
      "            # Calculating phi for new category:\n",
      "            # un-normalize current vector phi (divide by 1-current stick length)\n",
      "            phi_un = M.phi/(1-M.stick);\n",
      "            phi_un = cat(1,phi_un,{w_new});\n",
      "            alpha_new = (w_new/sum(phi_un))*sum(M.alpha);\n",
      "            M.alpha = cat(1,M.alpha,{alpha_new});\n",
      "            sigma_new = M.mean_sigma*(alpha_new);\n",
      "            M.components = cat(1,M.components,{GaussND(M.d,x,sigma_new,alpha_new+M.d,alpha_new+M.d+1)});\n",
      "        end\n",
      "        \n",
      "    end\n",
      "    M.phi = {M.alpha[i]/sum(M.alpha) for i=1:length(M.alpha)};\n",
      "    mean_sigma = mean({G.sigma/(G.nu-M.d-1) for G in M.components});\n",
      "end"
     ],
     "language": "python",
     "metadata": {},
     "outputs": [
      {
       "metadata": {},
       "output_type": "pyout",
       "prompt_number": 32,
       "text": [
        "update_mix_comp (generic function with 1 method)"
       ]
      }
     ],
     "prompt_number": 32
    },
    {
     "cell_type": "code",
     "collapsed": false,
     "input": [
      "mixTest2 = ItterMix(3,2,1,{10},{1},{},eye(3)*5);\n",
      "\n",
      "for i=1:100\n",
      "    update_mix_comp(mixTest2,sample_rand[:,i]);\n",
      "end\n",
      "\n",
      "mixTest2.phi"
     ],
     "language": "python",
     "metadata": {},
     "outputs": [
      {
       "metadata": {},
       "output_type": "pyout",
       "prompt_number": 49,
       "text": [
        "14-element Array{Any,1}:\n",
        " 0.493527   \n",
        " 0.00145586 \n",
        " 0.00174709 \n",
        " 0.00688732 \n",
        " 0.428251   \n",
        " 0.00521962 \n",
        " 0.0197598  \n",
        " 0.000944994\n",
        " 8.49899e-5 \n",
        " 0.00726014 \n",
        " 0.0200917  \n",
        " 0.00364839 \n",
        " 0.00794543 \n",
        " 0.00317681 "
       ]
      }
     ],
     "prompt_number": 49
    },
    {
     "cell_type": "code",
     "collapsed": false,
     "input": [
      "for i=101:200\n",
      "    update_mix_comp(mixTest2,sample_rand[:,i]);\n",
      "end\n",
      "\n",
      "mixTest2.phi"
     ],
     "language": "python",
     "metadata": {},
     "outputs": [
      {
       "metadata": {},
       "output_type": "pyout",
       "prompt_number": 50,
       "text": [
        "16-element Array{Any,1}:\n",
        " 0.486757   \n",
        " 0.000746663\n",
        " 0.000896026\n",
        " 0.00353228 \n",
        " 0.463014   \n",
        " 0.00267697 \n",
        " 0.0101341  \n",
        " 0.000484656\n",
        " 4.35885e-5 \n",
        " 0.00372349 \n",
        " 0.0103043  \n",
        " 0.00187114 \n",
        " 0.00407495 \n",
        " 0.00162928 \n",
        " 0.005584   \n",
        " 0.0045275  "
       ]
      }
     ],
     "prompt_number": 50
    },
    {
     "cell_type": "code",
     "collapsed": false,
     "input": [
      "for i=201:500\n",
      "    update_mix_comp(mixTest2,sample_rand[:,i]);\n",
      "end\n",
      "\n",
      "mixTest2.phi"
     ],
     "language": "python",
     "metadata": {},
     "outputs": [
      {
       "metadata": {},
       "output_type": "pyout",
       "prompt_number": 51,
       "text": [
        "17-element Array{Any,1}:\n",
        " 0.477221   \n",
        " 0.000302494\n",
        " 0.000363005\n",
        " 0.00143102 \n",
        " 0.497182   \n",
        " 0.00108452 \n",
        " 0.00410562 \n",
        " 0.000196348\n",
        " 1.76589e-5 \n",
        " 0.00150849 \n",
        " 0.00417458 \n",
        " 0.000758051\n",
        " 0.00165087 \n",
        " 0.000660068\n",
        " 0.00226223 \n",
        " 0.00183422 \n",
        " 0.00524815 "
       ]
      }
     ],
     "prompt_number": 51
    },
    {
     "cell_type": "code",
     "collapsed": false,
     "input": [
      "mixTest2.components[1]"
     ],
     "language": "python",
     "metadata": {},
     "outputs": [
      {
       "metadata": {},
       "output_type": "pyout",
       "prompt_number": 52,
       "text": [
        "GaussND(3,[10.2289,-0.127279,-0.0409376],3x3 Array{Float64,2}:\n",
        " 767.654    -11.1424   -11.4985\n",
        " -11.1424  1587.01    -189.922 \n",
        " -11.4985  -189.922   1042.44  ,242,246)"
       ]
      }
     ],
     "prompt_number": 52
    },
    {
     "cell_type": "code",
     "collapsed": false,
     "input": [
      "getsigma(mixTest2.components[1])"
     ],
     "language": "python",
     "metadata": {},
     "outputs": [
      {
       "metadata": {},
       "output_type": "pyout",
       "prompt_number": 53,
       "text": [
        "3x3 Array{Float64,2}:\n",
        "  3.17212    -0.0460431  -0.0475143\n",
        " -0.0460431   6.55787    -0.784802 \n",
        " -0.0475143  -0.784802    4.3076   "
       ]
      }
     ],
     "prompt_number": 53
    },
    {
     "cell_type": "code",
     "collapsed": false,
     "input": [
      "for i=100:200\n",
      "    update_mix_comp(mixTest2,sample_rand[:,i]);\n",
      "end\n",
      "\n",
      "mixTest2.phi"
     ],
     "language": "python",
     "metadata": {},
     "outputs": [
      {
       "metadata": {},
       "output_type": "pyout",
       "prompt_number": 41,
       "text": [
        "19-element Array{Any,1}:\n",
        " 0.487913   \n",
        " 0.000637089\n",
        " 0.00106914 \n",
        " 0.458901   \n",
        " 8.21556e-5 \n",
        " 0.000801738\n",
        " 0.00302828 \n",
        " 4.83611e-5 \n",
        " 0.000370525\n",
        " 0.00537618 \n",
        " 0.00519805 \n",
        " 0.0125203  \n",
        " 0.00310224 \n",
        " 0.0015595  \n",
        " 0.000861875\n",
        " 0.0090065  \n",
        " 0.00186358 \n",
        " 0.00103201 \n",
        " 0.00662879 "
       ]
      }
     ],
     "prompt_number": 41
    },
    {
     "cell_type": "code",
     "collapsed": false,
     "input": [
      "getsigma(mixTest2.components[4])"
     ],
     "language": "python",
     "metadata": {},
     "outputs": [
      {
       "metadata": {},
       "output_type": "pyout",
       "prompt_number": 42,
       "text": [
        "3x3 Array{Float64,2}:\n",
        " 4.38747    0.457505  0.0485848\n",
        " 0.457505   2.11523   0.71445  \n",
        " 0.0485848  0.71445   3.04541  "
       ]
      }
     ],
     "prompt_number": 42
    },
    {
     "cell_type": "code",
     "collapsed": false,
     "input": [
      "mixTest2.components[4].mu"
     ],
     "language": "python",
     "metadata": {},
     "outputs": [
      {
       "metadata": {},
       "output_type": "pyout",
       "prompt_number": 43,
       "text": [
        "3-element Array{Float64,1}:\n",
        "  9.95665\n",
        "  9.941  \n",
        " 10.1327 "
       ]
      }
     ],
     "prompt_number": 43
    }
   ],
   "metadata": {}
  }
 ]
}