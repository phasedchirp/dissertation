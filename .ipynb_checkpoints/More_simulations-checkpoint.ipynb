{
 "metadata": {
  "language": "Julia",
  "name": ""
 },
 "nbformat": 3,
 "nbformat_minor": 0,
 "worksheets": [
  {
   "cells": [
    {
     "cell_type": "code",
     "collapsed": false,
     "input": [
      "using Distributions;\n",
      "using PyPlot;\n",
      "include(\"Diss.jl\");\n",
      "include(\"vowels2.jl\");"
     ],
     "language": "python",
     "metadata": {},
     "outputs": []
    },
    {
     "cell_type": "code",
     "collapsed": false,
     "input": [
      "var_scaling = 0.7\n",
      "iy_sample = cat(1,rand(MvNormal(iy_mu,iy_sigma*var_scaling),500),zeros(1,500));\n",
      "ei_sample = cat(1,rand(MvNormal(ei_mu,ei_sigma*var_scaling),500),ones(1,500));\n",
      "ae_sample = cat(1,rand(MvNormal(ae_mu,ae_sigma*var_scaling),500),ones(1,500)*2);\n",
      "oo_sample = cat(1,rand(MvNormal(oo_mu,oo_sigma*var_scaling),500),ones(1,500)*3);\n",
      "uw_sample = cat(1,rand(MvNormal(uw_mu,uw_sigma*var_scaling),500),ones(1,500)*4);\n",
      "ah_sample = cat(1,rand(MvNormal(ah_mu,ah_sigma*var_scaling),500),ones(1,500)*5);\n",
      "aw_sample = cat(1,rand(MvNormal(aw_mu,aw_sigma*var_scaling),500),ones(1,500)*6);\n",
      "eh_sample = cat(1,rand(MvNormal(eh_mu,eh_sigma*var_scaling),500),ones(1,500)*7);\n",
      "ih_sample = cat(1,rand(MvNormal(ih_mu,ih_sigma*var_scaling),500),ones(1,500)*8);\n",
      "oa_sample = cat(1,rand(MvNormal(oa_mu,oa_sigma*var_scaling),500),ones(1,500)*9);\n",
      "uh_sample = cat(1,rand(MvNormal(uh_mu,uh_sigma*var_scaling),500),ones(1,500)*10);"
     ],
     "language": "python",
     "metadata": {},
     "outputs": []
    },
    {
     "cell_type": "code",
     "collapsed": false,
     "input": [
      "sample_5 = cat(2,iy_sample,oa_sample,uw_sample,ah_sample,eh_sample);\n",
      "ord = randperm(size(sample_5,2));\n",
      "col1 = permute!(sample_5[1,:],ord);\n",
      "col2 = permute!(sample_5[2,:],ord);\n",
      "col3 = permute!(sample_5[3,:],ord);\n",
      "col4 = permute!(sample_5[4,:],ord);\n",
      "col5 = permute!(sample_5[5,:],ord);\n",
      "col6 = permute!(sample_5[6,:],ord);\n",
      "col7 = permute!(sample_5[7,:],ord);\n",
      "vowels_5_rand = cat(1,col1,col2,col3,col4,col5,col6,col7);"
     ],
     "language": "python",
     "metadata": {},
     "outputs": []
    },
    {
     "cell_type": "code",
     "collapsed": false,
     "input": [
      "mixtures_1 = {vowelMix5 = ItterMix(2,10,1,{10},{1},{},eye(2),1) for 1=1:30};\n",
      "mixtures_2 = {vowelMix5 = ItterMix(2,10,1,{10},{1},{},eye(2),1) for 1=1:30};"
     ],
     "language": "python",
     "metadata": {},
     "outputs": []
    },
    {
     "cell_type": "code",
     "collapsed": false,
     "input": [
      "for j=1:30\n",
      "    for i=1:2000\n",
      "        update(mixtures_1[j],vowels_5_rand[3:4,i],1);\n",
      "    end\n",
      "end\n",
      "\n",
      "for j=1:30\n",
      "    for i=1:2000\n",
      "        update(mixtures_2[j],vowels_5_rand[3:4,i],2);\n",
      "    end\n",
      "end\n"
     ],
     "language": "python",
     "metadata": {},
     "outputs": []
    },
    {
     "cell_type": "code",
     "collapsed": false,
     "input": [
      "mixtures_12 = {vowelMix5 = ItterMix(3,10,1,{10},{1},{},eye(3),1) for 1=1:30};\n",
      "mixtures_22 = {vowelMix5 = ItterMix(3,10,1,{10},{1},{},eye(3),1) for 1=1:30};"
     ],
     "language": "python",
     "metadata": {},
     "outputs": []
    },
    {
     "cell_type": "code",
     "collapsed": false,
     "input": [
      "for j=1:30\n",
      "    for i=1:2000\n",
      "        update(mixtures_12[j],vowels_5_rand[2:4,i],1);\n",
      "    end\n",
      "end\n",
      "\n",
      "for j=1:30\n",
      "    for i=1:2000\n",
      "        update(mixtures_22[j],vowels_5_rand[2:4,i],2);\n",
      "    end\n",
      "end\n"
     ],
     "language": "python",
     "metadata": {},
     "outputs": []
    },
    {
     "cell_type": "code",
     "collapsed": false,
     "input": [
      "mixtures_13 = {ItterMix(4,10,1,{10},{1},{},eye(4),1) for 1=1:30};\n",
      "mixtures_23 = {ItterMix(4,10,1,{10},{1},{},eye(4),1) for 1=1:30};"
     ],
     "language": "python",
     "metadata": {},
     "outputs": []
    },
    {
     "cell_type": "code",
     "collapsed": false,
     "input": [
      "for j=1:30\n",
      "    for i=1:2000\n",
      "        update(mixtures_13[j],vowels_5_rand[2:5,i],2);\n",
      "    end\n",
      "end\n",
      "\n",
      "for j=1:30\n",
      "    for i=1:2000\n",
      "        update(mixtures_23[j],vowels_5_rand[2:5,i],2);\n",
      "    end\n",
      "end"
     ],
     "language": "python",
     "metadata": {},
     "outputs": []
    }
   ],
   "metadata": {}
  }
 ]
}