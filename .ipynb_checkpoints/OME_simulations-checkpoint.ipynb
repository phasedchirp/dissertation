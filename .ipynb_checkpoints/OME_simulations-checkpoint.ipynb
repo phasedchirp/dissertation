{
 "metadata": {
  "language": "Julia",
  "name": ""
 },
 "nbformat": 3,
 "nbformat_minor": 0,
 "worksheets": [
  {
   "cells": [
    {
     "cell_type": "heading",
     "level": 1,
     "metadata": {},
     "source": [
      "OME Learner Simulations"
     ]
    },
    {
     "cell_type": "markdown",
     "metadata": {},
     "source": [
      "These simulations replicate the simulations done for the biased category learner using Vallabha et al.'s Online Mixture Estimation (OME) model. All simulations use artificial American English vowel data generated based on parameters estimated from Hillenbrand et al. (1995).\n",
      "\n",
      "Simulations are as follows:\n",
      "\n",
      "1. A baseline simulation comparable to the simulation found in Feldman et al. (2013)\n",
      "2. Learning performance while varying dimension of data\n",
      "3. Learning while varying number of categories in data\n",
      "4. Learning while varying the within-category variability of data"
     ]
    },
    {
     "cell_type": "heading",
     "level": 3,
     "metadata": {},
     "source": [
      "Setup:"
     ]
    },
    {
     "cell_type": "markdown",
     "metadata": {},
     "source": [
      "Loading necessary modules:"
     ]
    },
    {
     "cell_type": "code",
     "collapsed": false,
     "input": [
      "using Distributions;\n",
      "using PyPlot;\n",
      "include(\"GAmod.jl\");"
     ],
     "language": "python",
     "metadata": {},
     "outputs": []
    },
    {
     "cell_type": "heading",
     "level": 3,
     "metadata": {},
     "source": [
      "Data:"
     ]
    },
    {
     "cell_type": "markdown",
     "metadata": {},
     "source": [
      "Loading vowel parameters (mean and covariance matrix) defined in a separate file. See file vowels2.jl for details."
     ]
    },
    {
     "cell_type": "code",
     "collapsed": false,
     "input": [
      "include(\"Vowels.jl\");"
     ],
     "language": "python",
     "metadata": {},
     "outputs": []
    },
    {
     "cell_type": "markdown",
     "metadata": {},
     "source": [
      "Generating simulated vowel productions from each category:"
     ]
    },
    {
     "cell_type": "code",
     "collapsed": false,
     "input": [
      "N = 500\n",
      "var_scaling = 1\n",
      "iy_sample = cat(1,rand(MvNormal(iy_mu,iy_sigma*var_scaling),N),zeros(1,N));\n",
      "ei_sample = cat(1,rand(MvNormal(ei_mu,ei_sigma*var_scaling),N),ones(1,N));\n",
      "ae_sample = cat(1,rand(MvNormal(ae_mu,ae_sigma*var_scaling),N),ones(1,N)*2);\n",
      "oo_sample = cat(1,rand(MvNormal(oo_mu,oo_sigma*var_scaling),N),ones(1,N)*3);\n",
      "uw_sample = cat(1,rand(MvNormal(uw_mu,uw_sigma*var_scaling),N),ones(1,N)*4);\n",
      "ah_sample = cat(1,rand(MvNormal(ah_mu,ah_sigma*var_scaling),N),ones(1,N)*5);\n",
      "aw_sample = cat(1,rand(MvNormal(aw_mu,aw_sigma*var_scaling),N),ones(1,N)*6);\n",
      "eh_sample = cat(1,rand(MvNormal(eh_mu,eh_sigma*var_scaling),N),ones(1,N)*7);\n",
      "ih_sample = cat(1,rand(MvNormal(ih_mu,ih_sigma*var_scaling),N),ones(1,N)*8);\n",
      "oa_sample = cat(1,rand(MvNormal(oa_mu,oa_sigma*var_scaling),N),ones(1,N)*9);\n",
      "uh_sample = cat(1,rand(MvNormal(uh_mu,uh_sigma*var_scaling),N),ones(1,N)*10);\n",
      "sample_all = cat(2,iy_sample,ei_sample,ae_sample,oo_sample,aw_sample,ih_sample,oa_sample,uw_sample,ah_sample,eh_sample,uh_sample);\n",
      "ord = randperm(size(sample_all,2));\n",
      "col1 = permute!(sample_all[1,:],ord);\n",
      "col2 = permute!(sample_all[2,:],ord);\n",
      "col3 = permute!(sample_all[3,:],ord);\n",
      "col4 = permute!(sample_all[4,:],ord);\n",
      "col5 = permute!(sample_all[5,:],ord);\n",
      "col6 = permute!(sample_all[6,:],ord);\n",
      "col7 = permute!(sample_all[7,:],ord);\n",
      "vowels_rand = cat(1,col1,col2,col3,col4,col5,col6,col7);"
     ],
     "language": "python",
     "metadata": {},
     "outputs": []
    },
    {
     "cell_type": "markdown",
     "metadata": {},
     "source": [
      "The learning data is 6-dimensional, including Duration, F0, F1, F2, F3, and F4. All frequency dimensions are ERB-scaled. In the standard F2-F1 projection, the data looks like this:"
     ]
    },
    {
     "cell_type": "code",
     "collapsed": false,
     "input": [
      "scatter(vowels_rand[3,:],vowels_rand[4,:],c=vowels_rand[7,:])"
     ],
     "language": "python",
     "metadata": {},
     "outputs": []
    },
    {
     "cell_type": "markdown",
     "metadata": {},
     "source": [
      "Needed for the OME initialization"
     ]
    },
    {
     "cell_type": "code",
     "collapsed": false,
     "input": [
      "using StatsBase"
     ],
     "language": "python",
     "metadata": {},
     "outputs": []
    },
    {
     "cell_type": "code",
     "collapsed": false,
     "input": [
      "centerpoint = mean(vowels_rand,2)[:,1]"
     ],
     "language": "python",
     "metadata": {},
     "outputs": []
    },
    {
     "cell_type": "code",
     "collapsed": false,
     "input": [
      "vowels_scaled = cat(1,zscore(vowels_rand[1:6,:],2),vowels_rand[7,:]);\n",
      "vowels_scaled = cat(2,vowels_scaled,vowels_scaled,vowels_scaled,vowels_scaled);\n",
      "size(vowels_scaled)"
     ],
     "language": "python",
     "metadata": {},
     "outputs": []
    },
    {
     "cell_type": "heading",
     "level": 2,
     "metadata": {},
     "source": [
      "Simulation 1:"
     ]
    },
    {
     "cell_type": "markdown",
     "metadata": {},
     "source": [
      "Simulation 1 replicates the tests of learner performance used by Feldman et al. (2013). Given the full 12-vowel dataset, "
     ]
    },
    {
     "cell_type": "code",
     "collapsed": false,
     "input": [
      "mixtures_1a = {MixInit(2,1000,[0.;0.],\"normal\",0.02) for i=1:1000};\n",
      "\n",
      "for j=1:1000\n",
      "    for i=1:22000\n",
      "        update(mixtures_1a[j],vowels_scaled[3:4,i],0.005);\n",
      "    end\n",
      "    if j%50 == 0\n",
      "        print(j,' ')\n",
      "    end\n",
      "end\n",
      "print('\\n')\n",
      "\n",
      "n_comps = zeros(1000)\n",
      "\n",
      "for j=1:length(mixtures_1a)\n",
      "    n = 0\n",
      "    for i=1:length(mixtures_1a[j].components)\n",
      "        if mixtures_1a[j].phi[i] > 0.03\n",
      "            n += 1\n",
      "        end\n",
      "    end\n",
      "    n_comps[j] += n\n",
      "end\n",
      "\n",
      "print(minimum(n_comps),'\\n')\n",
      "print(maximum(n_comps),'\\n')\n",
      "print(mean(n_comps),'\\n')\n",
      "range_vals = maximum(n_comps) - minimum(n_comps);\n",
      "plt.hist(n_comps,range_vals);"
     ],
     "language": "python",
     "metadata": {},
     "outputs": []
    },
    {
     "cell_type": "code",
     "collapsed": false,
     "input": [
      "include(\"cluster_metrics.jl\");"
     ],
     "language": "python",
     "metadata": {},
     "outputs": []
    },
    {
     "cell_type": "code",
     "collapsed": false,
     "input": [
      "# make testing sample:\n",
      "N = 100\n",
      "var_scaling = 1\n",
      "iy_sample = cat(1,rand(MvNormal(iy_mu,iy_sigma*var_scaling),N),zeros(1,N));\n",
      "ei_sample = cat(1,rand(MvNormal(ei_mu,ei_sigma*var_scaling),N),ones(1,N));\n",
      "ae_sample = cat(1,rand(MvNormal(ae_mu,ae_sigma*var_scaling),N),ones(1,N)*2);\n",
      "oo_sample = cat(1,rand(MvNormal(oo_mu,oo_sigma*var_scaling),N),ones(1,N)*3);\n",
      "uw_sample = cat(1,rand(MvNormal(uw_mu,uw_sigma*var_scaling),N),ones(1,N)*4);\n",
      "ah_sample = cat(1,rand(MvNormal(ah_mu,ah_sigma*var_scaling),N),ones(1,N)*5);\n",
      "aw_sample = cat(1,rand(MvNormal(aw_mu,aw_sigma*var_scaling),N),ones(1,N)*6);\n",
      "eh_sample = cat(1,rand(MvNormal(eh_mu,eh_sigma*var_scaling),N),ones(1,N)*7);\n",
      "ih_sample = cat(1,rand(MvNormal(ih_mu,ih_sigma*var_scaling),N),ones(1,N)*8);\n",
      "oa_sample = cat(1,rand(MvNormal(oa_mu,oa_sigma*var_scaling),N),ones(1,N)*9);\n",
      "uh_sample = cat(1,rand(MvNormal(uh_mu,uh_sigma*var_scaling),N),ones(1,N)*10);\n",
      "\n",
      "sample_all = cat(2,iy_sample,ei_sample,ae_sample,oo_sample,aw_sample,ih_sample,oa_sample,uw_sample,ah_sample,eh_sample,uh_sample);\n",
      "ord = randperm(size(sample_all,2));\n",
      "col1 = permute!(sample_all[1,:],ord);\n",
      "col2 = permute!(sample_all[2,:],ord);\n",
      "col3 = permute!(sample_all[3,:],ord);\n",
      "col4 = permute!(sample_all[4,:],ord);\n",
      "col5 = permute!(sample_all[5,:],ord);\n",
      "col6 = permute!(sample_all[6,:],ord);\n",
      "col7 = permute!(sample_all[7,:],ord);\n",
      "vowels_test = cat(1,col1,col2,col3,col4,col5,col6);\n",
      "vowels_test = cat(1,zscore(vowels_test,2),col7)"
     ],
     "language": "python",
     "metadata": {},
     "outputs": []
    },
    {
     "cell_type": "code",
     "collapsed": false,
     "input": [
      "fscores = Array(Float64,500,1)\n",
      "\n",
      "for i=1:length(fscores)\n",
      "    testlabs = categorize(mixtures_1a[i],vowels_test[3:4,:])\n",
      "    fscores[i] = fscore(testlabs',vowels_test[7,:])\n",
      "end\n",
      "\n",
      "print(mean(fscores))"
     ],
     "language": "python",
     "metadata": {},
     "outputs": []
    },
    {
     "cell_type": "code",
     "collapsed": false,
     "input": [
      "plt.hist(fscores)"
     ],
     "language": "python",
     "metadata": {},
     "outputs": []
    },
    {
     "cell_type": "code",
     "collapsed": false,
     "input": [
      "fscores2 = {}\n",
      "\n",
      "for i=1:length(mixtures_1a)\n",
      "    n = 0\n",
      "    for j=1:length(mixtures_1a[i].components)\n",
      "        if mixtures_1a[i].phi[j] > 0.03\n",
      "            n += 1\n",
      "        end\n",
      "    end\n",
      "    if n == 11\n",
      "        testlabs = categorize(mixtures_1a[i],vowels_test[3:4,:])\n",
      "        fscores2 = cat(1,fscores2,fscore(testlabs',vowels_test[7,:]))\n",
      "    end\n",
      "end\n",
      "\n",
      "print(mean(fscores2))"
     ],
     "language": "python",
     "metadata": {},
     "outputs": []
    },
    {
     "cell_type": "code",
     "collapsed": false,
     "input": [],
     "language": "python",
     "metadata": {},
     "outputs": []
    },
    {
     "cell_type": "heading",
     "level": 2,
     "metadata": {},
     "source": [
      "Simulation 2:"
     ]
    },
    {
     "cell_type": "markdown",
     "metadata": {},
     "source": [
      "Simulation 2 tests the effect of changing the dimensionality of the data."
     ]
    },
    {
     "cell_type": "code",
     "collapsed": false,
     "input": [
      "mixtures_1b = {MixInit(3,1000,[0.;0.;0.],\"normal\",0.02) for i=1:500};\n",
      "\n",
      "for j=1:500\n",
      "    for i=1:22000\n",
      "        update(mixtures_1b[j],vowels_scaled[2:4,i],0.005);\n",
      "    end\n",
      "    if j%50 == 0\n",
      "        print(j,' ')\n",
      "    end\n",
      "end\n",
      "print('\\n')"
     ],
     "language": "python",
     "metadata": {},
     "outputs": []
    },
    {
     "cell_type": "code",
     "collapsed": false,
     "input": [
      "fscores = Array(Float64,length(mixtures_1b),1)\n",
      "\n",
      "for i=1:length(fscores)\n",
      "    testlabs = categorize(mixtures_1b[i],vowels_test[2:4,:])\n",
      "    fscores[i] = fscore(testlabs',vowels_test[7,:])\n",
      "end\n",
      "\n",
      "print(mean(fscores))"
     ],
     "language": "python",
     "metadata": {},
     "outputs": []
    },
    {
     "cell_type": "code",
     "collapsed": false,
     "input": [
      "n_comps = zeros(500)\n",
      "\n",
      "for j=1:length(mixtures_1b)\n",
      "    n = 0\n",
      "    for i=1:length(mixtures_1b[j].components)\n",
      "        if mixtures_1b[j].phi[i] > 0.03\n",
      "            n += 1\n",
      "        end\n",
      "    end\n",
      "    n_comps[j] += n\n",
      "end\n",
      "\n",
      "print(minimum(n_comps),'\\n')\n",
      "print(maximum(n_comps),'\\n')\n",
      "print(mean(n_comps),'\\n')\n",
      "range_vals = maximum(n_comps) - minimum(n_comps);\n",
      "plt.hist(n_comps,range_vals);"
     ],
     "language": "python",
     "metadata": {},
     "outputs": []
    },
    {
     "cell_type": "code",
     "collapsed": false,
     "input": [
      "mixtures_1c = {MixInit(4,1000,[0.;0.;0.;0.],\"normal\",0.02) for i=1:500};\n",
      "\n",
      "for j=1:500\n",
      "    for i=1:22000\n",
      "        update(mixtures_1c[j],vowels_scaled[2:5,i],0.005);\n",
      "    end\n",
      "    if j%50 == 0\n",
      "        print(j,' ')\n",
      "    end\n",
      "end\n",
      "print('\\n')\n",
      "\n",
      "n_comps = zeros(500)\n",
      "\n",
      "for j=1:length(mixtures_1c)\n",
      "    n = 0\n",
      "    for i=1:length(mixtures_1c[j].components)\n",
      "        if mixtures_1c[j].phi[i] > 0.03\n",
      "            n += 1\n",
      "        end\n",
      "    end\n",
      "    n_comps[j] += n\n",
      "end\n",
      "\n",
      "print(minimum(n_comps),'\\n')\n",
      "print(maximum(n_comps),'\\n')\n",
      "print(mean(n_comps),'\\n')\n",
      "range_vals = maximum(n_comps) - minimum(n_comps);\n",
      "plt.hist(n_comps,range_vals);"
     ],
     "language": "python",
     "metadata": {},
     "outputs": []
    },
    {
     "cell_type": "code",
     "collapsed": false,
     "input": [
      "fscores = Array(Float64,length(mixtures_1c),1)\n",
      "\n",
      "for i=1:length(fscores)\n",
      "    testlabs = categorize(mixtures_1c[i],vowels_test[2:5,:])\n",
      "    fscores[i] = fscore(testlabs',vowels_test[7,:])\n",
      "end\n",
      "\n",
      "print(mean(fscores))"
     ],
     "language": "python",
     "metadata": {},
     "outputs": []
    },
    {
     "cell_type": "heading",
     "level": 2,
     "metadata": {},
     "source": [
      "Simulation 3:"
     ]
    },
    {
     "cell_type": "markdown",
     "metadata": {},
     "source": [
      "Simulation 3 tests the effect of varying the number of categories present in the data."
     ]
    },
    {
     "cell_type": "code",
     "collapsed": false,
     "input": [],
     "language": "python",
     "metadata": {},
     "outputs": []
    },
    {
     "cell_type": "heading",
     "level": 2,
     "metadata": {},
     "source": [
      "Simulation 4"
     ]
    },
    {
     "cell_type": "markdown",
     "metadata": {},
     "source": [
      "Simulation 4 tests the effect of varying the scale of within-category variability."
     ]
    },
    {
     "cell_type": "code",
     "collapsed": false,
     "input": [],
     "language": "python",
     "metadata": {},
     "outputs": []
    }
   ],
   "metadata": {}
  }
 ]
}