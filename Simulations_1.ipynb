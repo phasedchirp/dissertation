{
 "metadata": {
  "language": "Julia",
  "name": ""
 },
 "nbformat": 3,
 "nbformat_minor": 0,
 "worksheets": [
  {
   "cells": [
    {
     "cell_type": "heading",
     "level": 2,
     "metadata": {},
     "source": [
      "Setup:"
     ]
    },
    {
     "cell_type": "markdown",
     "metadata": {},
     "source": [
      "Using StatsBase, Distributions, PyPlot packages, source files diss.jl for modeling functions, cluster_metrics.jl for model evaluation, and vowels2.jl for simulated data parameters."
     ]
    },
    {
     "cell_type": "code",
     "collapsed": false,
     "input": [
      "using StatsBase;\n",
      "using Distributions;\n",
      "using PyPlot;\n",
      "include(\"diss.jl\");\n",
      "include(\"cluster_metrics.jl\");\n",
      "include(\"vowels2.jl\");"
     ],
     "language": "python",
     "metadata": {},
     "outputs": []
    },
    {
     "cell_type": "heading",
     "level": 4,
     "metadata": {},
     "source": [
      "Generating simulated data:"
     ]
    },
    {
     "cell_type": "code",
     "collapsed": false,
     "input": [
      "N = 2000\n",
      "var_scaling = 1\n",
      "iy_sample = cat(1,rand(MvNormal(iy_mu,iy_sigma*var_scaling),N),zeros(1,N));\n",
      "ei_sample = cat(1,rand(MvNormal(ei_mu,ei_sigma*var_scaling),N),ones(1,N));\n",
      "ae_sample = cat(1,rand(MvNormal(ae_mu,ae_sigma*var_scaling),N),ones(1,N)*2);\n",
      "oo_sample = cat(1,rand(MvNormal(oo_mu,oo_sigma*var_scaling),N),ones(1,N)*3);\n",
      "uw_sample = cat(1,rand(MvNormal(uw_mu,uw_sigma*var_scaling),N),ones(1,N)*4);\n",
      "ah_sample = cat(1,rand(MvNormal(ah_mu,ah_sigma*var_scaling),N),ones(1,N)*5);\n",
      "aw_sample = cat(1,rand(MvNormal(aw_mu,aw_sigma*var_scaling),N),ones(1,N)*6);\n",
      "eh_sample = cat(1,rand(MvNormal(eh_mu,eh_sigma*var_scaling),N),ones(1,N)*7);\n",
      "ih_sample = cat(1,rand(MvNormal(ih_mu,ih_sigma*var_scaling),N),ones(1,N)*8);\n",
      "oa_sample = cat(1,rand(MvNormal(oa_mu,oa_sigma*var_scaling),N),ones(1,N)*9);\n",
      "uh_sample = cat(1,rand(MvNormal(uh_mu,uh_sigma*var_scaling),N),ones(1,N)*10);\n",
      "sample_all = cat(2,iy_sample,ei_sample,ae_sample,oo_sample,aw_sample,ih_sample,oa_sample,uw_sample,ah_sample,eh_sample,uh_sample);\n",
      "ord = randperm(size(sample_all,2));\n",
      "col1 = permute!(sample_all[1,:],ord);\n",
      "col2 = permute!(sample_all[2,:],ord);\n",
      "col3 = permute!(sample_all[3,:],ord);\n",
      "col4 = permute!(sample_all[4,:],ord);\n",
      "col5 = permute!(sample_all[5,:],ord);\n",
      "col6 = permute!(sample_all[6,:],ord);\n",
      "col7 = permute!(sample_all[7,:],ord);\n",
      "vowels_rand = cat(1,col1,col2,col3,col4,col5,col6,col7);"
     ],
     "language": "python",
     "metadata": {},
     "outputs": []
    },
    {
     "cell_type": "heading",
     "level": 4,
     "metadata": {},
     "source": [
      "Z-scoring data:"
     ]
    },
    {
     "cell_type": "code",
     "collapsed": false,
     "input": [
      "vowels_scaled = cat(1,zscore(vowels_rand[1:6,:],2),vowels_rand[7,:]);\n",
      "print(size(vowels_scaled));"
     ],
     "language": "python",
     "metadata": {},
     "outputs": []
    },
    {
     "cell_type": "heading",
     "level": 2,
     "metadata": {},
     "source": [
      "Simulations:"
     ]
    },
    {
     "cell_type": "markdown",
     "metadata": {},
     "source": [
      "First simulation is looking at learning as the number of dimensions increases, with the full vowel inventory and full variability in the data set."
     ]
    },
    {
     "cell_type": "heading",
     "level": 3,
     "metadata": {},
     "source": [
      "2-dimensional model:"
     ]
    },
    {
     "cell_type": "code",
     "collapsed": false,
     "input": [
      "# Initial sigma\n",
      "sInit = Sigma(2,eye(2),5);\n",
      "# 1000 models with the same initial parameters:\n",
      "mix1 = [Mix(2,20,1,[1],[],[],sInit) for i=1:1000];"
     ],
     "language": "python",
     "metadata": {},
     "outputs": []
    },
    {
     "cell_type": "heading",
     "level": 4,
     "metadata": {},
     "source": [
      "Training:"
     ]
    },
    {
     "cell_type": "code",
     "collapsed": false,
     "input": [
      "for i=1:1000\n",
      "    for j=1:20000\n",
      "        update(mix1[i],vowels_scaled[3:4,j],0.1);\n",
      "    end\n",
      "    if i%100==0\n",
      "        print(i,\", \")\n",
      "    end\n",
      "end"
     ],
     "language": "python",
     "metadata": {},
     "outputs": []
    },
    {
     "cell_type": "heading",
     "level": 4,
     "metadata": {},
     "source": [
      "Evaluation:"
     ]
    },
    {
     "cell_type": "code",
     "collapsed": false,
     "input": [],
     "language": "python",
     "metadata": {},
     "outputs": []
    },
    {
     "cell_type": "heading",
     "level": 3,
     "metadata": {},
     "source": [
      "3-dimensional model (add F0):"
     ]
    },
    {
     "cell_type": "code",
     "collapsed": false,
     "input": [
      "# Initial sigma\n",
      "sInit = Sigma(3,eye(3),5);\n",
      "# 1000 models with the same initial parameters:\n",
      "mix1 = [Mix(3,20,1,[1],[],[],sInit) for i=1:1000];"
     ],
     "language": "python",
     "metadata": {},
     "outputs": []
    },
    {
     "cell_type": "heading",
     "level": 4,
     "metadata": {},
     "source": [
      "Training:"
     ]
    },
    {
     "cell_type": "code",
     "collapsed": false,
     "input": [
      "for i=1:1000\n",
      "    for j=1:20000\n",
      "        update(mix1[i],vowels_scaled[2:4,j],0.1);\n",
      "    end\n",
      "    if i%100==0\n",
      "        print(i,\", \")\n",
      "    end\n",
      "end"
     ],
     "language": "python",
     "metadata": {},
     "outputs": []
    },
    {
     "cell_type": "heading",
     "level": 4,
     "metadata": {},
     "source": [
      "Evaluation:"
     ]
    },
    {
     "cell_type": "code",
     "collapsed": false,
     "input": [],
     "language": "python",
     "metadata": {},
     "outputs": []
    },
    {
     "cell_type": "heading",
     "level": 3,
     "metadata": {},
     "source": [
      "4-dimensional model (adding duration):"
     ]
    },
    {
     "cell_type": "code",
     "collapsed": false,
     "input": [
      "# Initial sigma\n",
      "sInit = Sigma(4,eye(4),5);\n",
      "# 1000 models with the same initial parameters:\n",
      "mix1 = [Mix(4,20,1,[1],[],[],sInit) for i=1:1000];"
     ],
     "language": "python",
     "metadata": {},
     "outputs": []
    },
    {
     "cell_type": "heading",
     "level": 4,
     "metadata": {},
     "source": [
      "Training:"
     ]
    },
    {
     "cell_type": "code",
     "collapsed": false,
     "input": [
      "for i=1:1000\n",
      "    for j=1:20000\n",
      "        update(mix1[i],vowels_scaled[1:4,j],0.1);\n",
      "    end\n",
      "    if i%100==0\n",
      "        print(i,\", \")\n",
      "    end\n",
      "end"
     ],
     "language": "python",
     "metadata": {},
     "outputs": []
    },
    {
     "cell_type": "heading",
     "level": 4,
     "metadata": {},
     "source": [
      "Evaluation:"
     ]
    },
    {
     "cell_type": "code",
     "collapsed": false,
     "input": [],
     "language": "python",
     "metadata": {},
     "outputs": []
    },
    {
     "cell_type": "heading",
     "level": 2,
     "metadata": {},
     "source": [
      "Gradient-based model:"
     ]
    },
    {
     "cell_type": "code",
     "collapsed": false,
     "input": [
      "include(\"GAmod.jl\");"
     ],
     "language": "python",
     "metadata": {},
     "outputs": []
    },
    {
     "cell_type": "heading",
     "level": 3,
     "metadata": {},
     "source": [
      "2-dimensional model:"
     ]
    },
    {
     "cell_type": "code",
     "collapsed": false,
     "input": [
      "mixtures_1a = [MixInit(2,1000,[0.;0.],\"normal\",0.02) for i=1:1000];"
     ],
     "language": "python",
     "metadata": {},
     "outputs": []
    },
    {
     "cell_type": "heading",
     "level": 4,
     "metadata": {},
     "source": [
      "Training:"
     ]
    },
    {
     "cell_type": "code",
     "collapsed": false,
     "input": [
      "for j=1:1000\n",
      "    for i=1:22000\n",
      "        update(mixtures_1a[j],vowels_scaled[3:4,i],0.005);\n",
      "    end\n",
      "    if j%50 == 0\n",
      "        print(j,' ')\n",
      "    end\n",
      "end"
     ],
     "language": "python",
     "metadata": {},
     "outputs": []
    },
    {
     "cell_type": "heading",
     "level": 4,
     "metadata": {},
     "source": [
      "Evaluation:"
     ]
    },
    {
     "cell_type": "code",
     "collapsed": false,
     "input": [],
     "language": "python",
     "metadata": {},
     "outputs": []
    },
    {
     "cell_type": "heading",
     "level": 3,
     "metadata": {},
     "source": [
      "3-dimensional model:"
     ]
    },
    {
     "cell_type": "code",
     "collapsed": false,
     "input": [
      "mixtures_1a = [MixInit(3,1000,[0.;0.],\"normal\",0.02) for i=1:1000];"
     ],
     "language": "python",
     "metadata": {},
     "outputs": []
    },
    {
     "cell_type": "heading",
     "level": 4,
     "metadata": {},
     "source": [
      "Training:"
     ]
    },
    {
     "cell_type": "code",
     "collapsed": false,
     "input": [
      "for j=1:1000\n",
      "    for i=1:22000\n",
      "        update(mixtures_1a[j],vowels_scaled[3:4,i],0.005);\n",
      "    end\n",
      "    if j%50 == 0\n",
      "        print(j,' ')\n",
      "    end\n",
      "end"
     ],
     "language": "python",
     "metadata": {},
     "outputs": []
    },
    {
     "cell_type": "heading",
     "level": 4,
     "metadata": {},
     "source": [
      "Evaluation:"
     ]
    },
    {
     "cell_type": "code",
     "collapsed": false,
     "input": [],
     "language": "python",
     "metadata": {},
     "outputs": []
    },
    {
     "cell_type": "heading",
     "level": 3,
     "metadata": {},
     "source": [
      "4-dimensional model:"
     ]
    },
    {
     "cell_type": "code",
     "collapsed": false,
     "input": [
      "mixtures_1a = [MixInit(4,1000,[0.;0.],\"normal\",0.02) for i=1:1000];"
     ],
     "language": "python",
     "metadata": {},
     "outputs": []
    },
    {
     "cell_type": "heading",
     "level": 4,
     "metadata": {},
     "source": [
      "Training:"
     ]
    },
    {
     "cell_type": "code",
     "collapsed": false,
     "input": [
      "for j=1:1000\n",
      "    for i=1:22000\n",
      "        update(mixtures_1a[j],vowels_scaled[3:4,i],0.005);\n",
      "    end\n",
      "    if j%50 == 0\n",
      "        print(j,' ')\n",
      "    end\n",
      "end"
     ],
     "language": "python",
     "metadata": {},
     "outputs": []
    },
    {
     "cell_type": "heading",
     "level": 4,
     "metadata": {},
     "source": [
      "Evaluation:"
     ]
    },
    {
     "cell_type": "code",
     "collapsed": false,
     "input": [],
     "language": "python",
     "metadata": {},
     "outputs": []
    },
    {
     "cell_type": "code",
     "collapsed": false,
     "input": [],
     "language": "python",
     "metadata": {},
     "outputs": []
    }
   ],
   "metadata": {}
  }
 ]
}