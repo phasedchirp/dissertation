{
 "metadata": {
  "language": "Julia",
  "name": ""
 },
 "nbformat": 3,
 "nbformat_minor": 0,
 "worksheets": [
  {
   "cells": [
    {
     "cell_type": "code",
     "collapsed": false,
     "input": [
      "using Distributions;\n",
      "using PyPlot;"
     ],
     "language": "python",
     "metadata": {},
     "outputs": [
      {
       "output_type": "stream",
       "stream": "stderr",
       "text": [
        "INFO: Loading help data...\n"
       ]
      }
     ],
     "prompt_number": 1
    },
    {
     "cell_type": "code",
     "collapsed": false,
     "input": [
      "# Define both distributions\n",
      "mu1 = [10.0; 0; 0];\n",
      "sigma1 = [3.0 0 0; 0 6 0; 0 0 4];\n",
      "mu2 = ones(3)*10;\n",
      "sigma2 = [4.0 1 0; 1 2 1; 0 1 4];\n",
      "clust1 = MvNormal(mu1,sigma1);\n",
      "clust2 = MvNormal(mu2,sigma2);\n",
      "# generate samples from both\n",
      "sample1 = rand(clust1,1000);\n",
      "sample2 = rand(clust2,1000);\n",
      "sample_all = cat(2,sample1,sample2);\n",
      "ord = randperm(2000);\n",
      "col1 = permute!(sample_all[1,:],ord);\n",
      "col2 = permute!(sample_all[2,:],ord);\n",
      "col3 = permute!(sample_all[3,:],ord);\n",
      "sample_rand = cat(1,col1,col2,col3);"
     ],
     "language": "python",
     "metadata": {},
     "outputs": [],
     "prompt_number": 2
    },
    {
     "cell_type": "code",
     "collapsed": false,
     "input": [
      "type GaussND\n",
      "    d\n",
      "    mu\n",
      "    sigma\n",
      "    kappa\n",
      "    nu\n",
      "end"
     ],
     "language": "python",
     "metadata": {},
     "outputs": [],
     "prompt_number": 3
    },
    {
     "cell_type": "code",
     "collapsed": false,
     "input": [
      "type ItterMix\n",
      "    d::Int\n",
      "    a\n",
      "    stick\n",
      "    alpha\n",
      "    phi\n",
      "    components\n",
      "    mean_sigma\n",
      "end"
     ],
     "language": "python",
     "metadata": {},
     "outputs": [],
     "prompt_number": 4
    },
    {
     "cell_type": "code",
     "collapsed": false,
     "input": [
      "function update(G::GaussND,x,weight = 1)\n",
      "    G.sigma += weight*((x-G.mu)*transpose(x-G.mu))*G.kappa/(G.kappa+1);\n",
      "    G.mu = weight*G.mu*(G.kappa/(G.kappa+1)) + x*(1/(G.kappa+1));\n",
      "    G.kappa += weight*1;\n",
      "    G.nu += weight*1;\n",
      "end"
     ],
     "language": "python",
     "metadata": {},
     "outputs": [
      {
       "metadata": {},
       "output_type": "pyout",
       "prompt_number": 5,
       "text": [
        "update (generic function with 2 methods)"
       ]
      }
     ],
     "prompt_number": 5
    },
    {
     "cell_type": "code",
     "collapsed": false,
     "input": [
      "function update_mix(M::ItterMix,x)\n",
      "    # determine if new or old category\n",
      "    # p(new) decreases as stick-length decreases\n",
      "    isnew = rand(Bernoulli(M.stick));\n",
      "    \n",
      "    # generate posterior predictive densities\n",
      "    # currently terribly clunky\n",
      "    \n",
      "    if !bool(isnew)\n",
      "        post_pred = {MvTDist(float(G.nu-M.d+1),G.mu,G.sigma*((G.kappa+1)/(G.kappa*(G.nu-M.d-1)))) for G in M.components};\n",
      "        # Calculate and normalize cluster responsibilities\n",
      "        resp = {M.phi[i]*pdf(post_pred[i],x) for i=1:length(post_pred)};\n",
      "        resp = resp/sum(resp);\n",
      "        for i = 1:length(M.components);\n",
      "            update(M.components[i],x,resp[i]);\n",
      "            M.alpha[i] += 1*resp[i];\n",
      "        end\n",
      "    else\n",
      "        w_new = rand(Beta(1,M.a))*M.stick;\n",
      "        M.stick = M.stick - w_new;\n",
      "        if M.components == {}\n",
      "            M.components = cat(1,M.components,{GaussND(M.d,x,M.mean_sigma,M.alpha[1],M.alpha[1]+M.d)});\n",
      "        else\n",
      "            # Calculating phi for new category:\n",
      "            # un-normalize current vector phi (divide by 1-current stick length)\n",
      "            phi_un = M.phi/(1-M.stick);\n",
      "            phi_un = cat(1,phi_un,{w_new});\n",
      "            alpha_new = (w_new/sum(phi_un))*sum(M.alpha);\n",
      "            M.alpha = cat(1,M.alpha,{alpha_new});\n",
      "            M.components = cat(1,M.components,{GaussND(M.d,x,M.mean_sigma,alpha_new+M.d,alpha_new+M.d)});\n",
      "        end\n",
      "        \n",
      "    end\n",
      "    M.phi = {M.alpha[i]/sum(M.alpha) for i=1:length(M.alpha)};\n",
      "    mean_sigma = mean({G.sigma/(G.nu-M.d-1) for G in M.components});\n",
      "end"
     ],
     "language": "python",
     "metadata": {},
     "outputs": [
      {
       "metadata": {},
       "output_type": "pyout",
       "prompt_number": 10,
       "text": [
        "update_mix (generic function with 1 method)"
       ]
      }
     ],
     "prompt_number": 10
    },
    {
     "cell_type": "code",
     "collapsed": false,
     "input": [
      "# initialize a mixture with d = 3, a = 2, stick = 1, alpha = {10}, phi = {1}, components = {},\n",
      "# mean_sigma = 3-dimensional identity matrix\n",
      "mixTest = ItterMix(3,2,1,{10},{1},{},eye(3));\n",
      "mixTest.a"
     ],
     "language": "python",
     "metadata": {},
     "outputs": [
      {
       "metadata": {},
       "output_type": "pyout",
       "prompt_number": 8,
       "text": [
        "2"
       ]
      }
     ],
     "prompt_number": 8
    },
    {
     "cell_type": "code",
     "collapsed": false,
     "input": [
      "update_mix(mixTest,sample_rand[:,1])"
     ],
     "language": "python",
     "metadata": {},
     "outputs": [
      {
       "metadata": {},
       "output_type": "pyout",
       "prompt_number": 11,
       "text": [
        "3x3 Array{Float64,2}:\n",
        " NaN  NaN  NaN\n",
        " NaN  NaN  NaN\n",
        " NaN  NaN  NaN"
       ]
      }
     ],
     "prompt_number": 11
    },
    {
     "cell_type": "code",
     "collapsed": false,
     "input": [
      "mixTest.components"
     ],
     "language": "python",
     "metadata": {},
     "outputs": [
      {
       "metadata": {},
       "output_type": "pyout",
       "prompt_number": 12,
       "text": [
        "1-element Array{Any,1}:\n",
        " GaussND(3,[NaN,NaN,NaN],3x3 Array{Float64,2}:\n",
        " NaN  NaN  NaN\n",
        " NaN  NaN  NaN\n",
        " NaN  NaN  NaN,NaN,NaN)"
       ]
      }
     ],
     "prompt_number": 12
    },
    {
     "cell_type": "code",
     "collapsed": false,
     "input": [
      "function update_mix_comp(M::ItterMix,x)\n",
      "    # determine if new or old category\n",
      "    # p(new) decreases as stick-length decreases\n",
      "    isnew = rand(Bernoulli(M.stick));\n",
      "    \n",
      "    # generate posterior predictive densities\n",
      "    # currently terribly clunky\n",
      "    \n",
      "    if !bool(isnew)\n",
      "        post_pred = {MvTDist(float(G.nu-M.d+1),G.mu,G.sigma*((G.kappa+1)/(G.kappa*(G.nu-M.d-1)))) for G in M.components};\n",
      "        # Calculate and normalize cluster responsibilities\n",
      "        resp = {M.phi[i]*pdf(post_pred[i],x) for i=1:length(post_pred)};\n",
      "        winner = indmax(resp)\n",
      "        update(M.components[winner],x);\n",
      "        M.alpha[winner] += 1;\n",
      "    else\n",
      "        w_new = rand(Beta(1,M.a))*M.stick;\n",
      "        M.stick = M.stick - w_new;\n",
      "        if M.components == {}\n",
      "            M.components = cat(1,M.components,{GaussND(M.d,x,M.mean_sigma,M.alpha[1],M.alpha[1]+M.d)});\n",
      "        else\n",
      "            # Calculating phi for new category:\n",
      "            # un-normalize current vector phi (divide by 1-current stick length)\n",
      "            phi_un = M.phi/(1-M.stick);\n",
      "            phi_un = cat(1,phi_un,{w_new});\n",
      "            alpha_new = (w_new/sum(phi_un))*sum(M.alpha);\n",
      "            M.alpha = cat(1,M.alpha,{alpha_new});\n",
      "            M.components = cat(1,M.components,{GaussND(M.d,x,M.mean_sigma,alpha_new+M.d,alpha_new+M.d)});\n",
      "        end\n",
      "        \n",
      "    end\n",
      "    M.phi = {M.alpha[i]/sum(M.alpha) for i=1:length(M.alpha)};\n",
      "    mean_sigma = mean({G.sigma/(G.nu-M.d-1) for G in M.components});\n",
      "end"
     ],
     "language": "python",
     "metadata": {},
     "outputs": [
      {
       "ename": "LoadError",
       "evalue": "PosDefException(1)\nwhile loading In[45], in expression starting on line 1",
       "output_type": "pyerr",
       "traceback": [
        "PosDefException(1)\nwhile loading In[45], in expression starting on line 1",
        " in cholfact! at linalg/factorization.jl:36",
        " in cholfact at linalg/factorization.jl:39",
        " in PDMat at /home/chirp/.julia/v0.3/PDMats/src/PDMats.jl:149",
        " in GenericMvTDist at /home/chirp/.julia/v0.3/Distributions/src/multivariate/mvtdist.jl:45",
        " in update_mix at In[42]:10",
        " in anonymous at no file:2"
       ]
      }
     ],
     "prompt_number": 45
    }
   ],
   "metadata": {}
  }
 ]
}